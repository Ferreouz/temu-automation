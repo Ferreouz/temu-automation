{
 "cells": [
  {
   "cell_type": "code",
   "execution_count": 3,
   "id": "6615c85e-7601-49b9-9e80-0a0e18b178a9",
   "metadata": {},
   "outputs": [
    {
     "name": "stdout",
     "output_type": "stream",
     "text": [
      "Requirement already satisfied: numpy in ./venv/lib/python3.11/site-packages (2.0.1)\n"
     ]
    }
   ],
   "source": [
    "!pip install opencv-python"
   ]
  },
  {
   "cell_type": "code",
   "execution_count": 2,
   "id": "6ed379c4-8928-48d1-a4a9-959c5b8da2bf",
   "metadata": {},
   "outputs": [
    {
     "data": {
      "text/plain": [
       "array([[[ 25,  22,   8, 255],\n",
       "        [ 25,  22,   8, 255],\n",
       "        [ 25,  22,   8, 255],\n",
       "        ...,\n",
       "        [ 25,  23,  14, 255],\n",
       "        [ 25,  23,  14, 255],\n",
       "        [ 25,  23,  14, 255]],\n",
       "\n",
       "       [[ 25,  22,   8, 255],\n",
       "        [ 25,  22,   8, 255],\n",
       "        [ 25,  22,   8, 255],\n",
       "        ...,\n",
       "        [ 25,  23,  14, 255],\n",
       "        [ 25,  23,  14, 255],\n",
       "        [ 25,  23,  14, 255]],\n",
       "\n",
       "       [[ 25,  22,   8, 255],\n",
       "        [ 25,  22,   8, 255],\n",
       "        [ 25,  22,   8, 255],\n",
       "        ...,\n",
       "        [ 25,  23,  14, 255],\n",
       "        [ 25,  23,  14, 255],\n",
       "        [ 25,  23,  14, 255]],\n",
       "\n",
       "       ...,\n",
       "\n",
       "       [[255, 255, 255, 255],\n",
       "        [255, 255, 255, 255],\n",
       "        [255, 255, 255, 255],\n",
       "        ...,\n",
       "        [255, 255, 255, 255],\n",
       "        [255, 255, 255, 255],\n",
       "        [255, 255, 255, 255]],\n",
       "\n",
       "       [[255, 255, 255, 255],\n",
       "        [255, 255, 255, 255],\n",
       "        [255, 255, 255, 255],\n",
       "        ...,\n",
       "        [255, 255, 255, 255],\n",
       "        [255, 255, 255, 255],\n",
       "        [255, 255, 255, 255]],\n",
       "\n",
       "       [[255, 255, 255, 255],\n",
       "        [255, 255, 255, 255],\n",
       "        [255, 255, 255, 255],\n",
       "        ...,\n",
       "        [255, 255, 255, 255],\n",
       "        [255, 255, 255, 255],\n",
       "        [255, 255, 255, 255]]], dtype=uint8)"
      ]
     },
     "execution_count": 2,
     "metadata": {},
     "output_type": "execute_result"
    }
   ],
   "source": [
    "import cv2\n",
    "import numpy as np\n",
    "\n",
    "print1 = cv2.imread('img/print4.png', cv2.IMREAD_UNCHANGED)\n",
    "hand1 = cv2.imread('img/hand1.png', cv2.IMREAD_UNCHANGED)\n",
    "                   \n",
    "result = cv2.matchTemplate(print1, hand1, cv2.TM_CCOEFF_NORMED)\n",
    "min_val, max_val, min_loc, max_loc = cv2.minMaxLoc(result)\n",
    "\n",
    "needleW = hand1.shape[1]\n",
    "needleH = hand1.shape[0]\n",
    "cv2.rectangle(print1, max_loc, (max_loc[0]+needleW, max_loc[1]+needleH), (0,255,255), 2)"
   ]
  },
  {
   "cell_type": "code",
   "execution_count": 3,
   "id": "49225e56-2f25-4e81-94cd-1270165ac7e4",
   "metadata": {},
   "outputs": [
    {
     "data": {
      "text/plain": [
       "True"
      ]
     },
     "execution_count": 3,
     "metadata": {},
     "output_type": "execute_result"
    }
   ],
   "source": [
    "cv2.imshow('Print', print1)\n",
    "cv2.waitKey()\n",
    "cv2.destroyAllWindows()\n",
    "cv2.imwrite('./output.png', print1)"
   ]
  },
  {
   "cell_type": "code",
   "execution_count": null,
   "id": "07323cb6-d101-4235-8a88-88d5f121df5f",
   "metadata": {},
   "outputs": [],
   "source": [
    "threshold = .50\n",
    "yloc, xloc = np.where(result >= threshold)\n",
    "for(x, y) in zip(xloc, yloc):\n",
    "    cv2.rectangle(print1, (x, y), (x+needleW, y+needleH), (0,255,255), 2)"
   ]
  },
  {
   "cell_type": "code",
   "execution_count": 13,
   "id": "6c678477-e012-45d9-a2c9-03c6288a9853",
   "metadata": {},
   "outputs": [
    {
     "name": "stdout",
     "output_type": "stream",
     "text": [
      "without grouping: 504\n",
      "with grouping: 1\n"
     ]
    }
   ],
   "source": [
    "threshold = .50\n",
    "yloc, xloc = np.where(result >= threshold)\n",
    "rectangles = []\n",
    "for(x, y) in zip(xloc, yloc):\n",
    "    rectangles.append([int(x), int(y), int(needleW), int(needleH)])\n",
    "    rectangles.append([int(x), int(y), int(needleW), int(needleH)])\n",
    "print(\"without grouping: \" + str(len(rectangles))) \n",
    "\n",
    "rectangles, weights = cv2.groupRectangles(rectangles, 1, 0.2)\n",
    "print(\"with grouping: \" + str(len(rectangles)))\n",
    "\n",
    "for(x, y, w, h) in rectangles:\n",
    "    cv2.rectangle(print1, (x, y), (x+needleW, y+needleH), (0,255,255), 2)"
   ]
  },
  {
   "cell_type": "code",
   "execution_count": 5,
   "id": "7ce2c600-e646-461d-a694-3f18c304f10b",
   "metadata": {},
   "outputs": [],
   "source": [
    "\n",
    "import cv2\n",
    "import numpy as np\n",
    "import os.path\n",
    "\n",
    "img_path = './img/'\n",
    "output_path = './output/'\n",
    "i = 1\n",
    "while True:\n",
    "    path = img_path + \"print\" + str(i) + \".png\"\n",
    "    if not os.path.exists(path):\n",
    "        break\n",
    "\n",
    "    print1 = cv2.imread(path, cv2.IMREAD_UNCHANGED)\n",
    "    hand1 = cv2.imread(img_path + 'hand1.png', cv2.IMREAD_UNCHANGED)\n",
    "                    \n",
    "    result = cv2.matchTemplate(print1, hand1, cv2.TM_CCOEFF_NORMED)\n",
    "    min_val, max_val, min_loc, max_loc = cv2.minMaxLoc(result)\n",
    "\n",
    "    needleW = hand1.shape[1]\n",
    "    needleH = hand1.shape[0]\n",
    "    cv2.rectangle(print1, max_loc, (max_loc[0]+needleW, max_loc[1]+needleH), (0,255,255), 2)\n",
    "    cv2.imwrite(output_path + 'output' + str(i) + '.png', print1)\n",
    "    i += 1"
   ]
  },
  {
   "cell_type": "code",
   "execution_count": null,
   "id": "84e2e3d0-8d7a-4a93-b52d-85e8ac17f60c",
   "metadata": {},
   "outputs": [],
   "source": []
  }
 ],
 "metadata": {
  "kernelspec": {
   "display_name": "Python 3 (ipykernel)",
   "language": "python",
   "name": "python3"
  },
  "language_info": {
   "codemirror_mode": {
    "name": "ipython",
    "version": 3
   },
   "file_extension": ".py",
   "mimetype": "text/x-python",
   "name": "python",
   "nbconvert_exporter": "python",
   "pygments_lexer": "ipython3",
   "version": "3.11.2"
  }
 },
 "nbformat": 4,
 "nbformat_minor": 5
}
